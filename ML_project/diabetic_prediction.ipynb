{
 "cells": [
  {
   "cell_type": "code",
   "execution_count": 1,
   "id": "7b6c48ee",
   "metadata": {},
   "outputs": [
    {
     "name": "stdout",
     "output_type": "stream",
     "text": [
      "Requirement already satisfied: scikit-learn in c:\\users\\arpit\\anaconda3\\lib\\site-packages (1.3.0)\n",
      "Requirement already satisfied: pandas in c:\\users\\arpit\\anaconda3\\lib\\site-packages (1.5.3)\n",
      "Requirement already satisfied: numpy>=1.17.3 in c:\\users\\arpit\\anaconda3\\lib\\site-packages (from scikit-learn) (1.24.3)\n",
      "Requirement already satisfied: scipy>=1.5.0 in c:\\users\\arpit\\anaconda3\\lib\\site-packages (from scikit-learn) (1.10.1)\n",
      "Requirement already satisfied: joblib>=1.1.1 in c:\\users\\arpit\\anaconda3\\lib\\site-packages (from scikit-learn) (1.2.0)\n",
      "Requirement already satisfied: threadpoolctl>=2.0.0 in c:\\users\\arpit\\anaconda3\\lib\\site-packages (from scikit-learn) (2.2.0)\n",
      "Requirement already satisfied: python-dateutil>=2.8.1 in c:\\users\\arpit\\anaconda3\\lib\\site-packages (from pandas) (2.8.2)\n",
      "Requirement already satisfied: pytz>=2020.1 in c:\\users\\arpit\\anaconda3\\lib\\site-packages (from pandas) (2022.7)\n",
      "Requirement already satisfied: six>=1.5 in c:\\users\\arpit\\anaconda3\\lib\\site-packages (from python-dateutil>=2.8.1->pandas) (1.16.0)\n"
     ]
    }
   ],
   "source": [
    "!pip install scikit-learn pandas"
   ]
  },
  {
   "cell_type": "markdown",
   "id": "344cd4d3",
   "metadata": {},
   "source": [
    "# Necessary libraries "
   ]
  },
  {
   "cell_type": "code",
   "execution_count": 2,
   "id": "01893748",
   "metadata": {},
   "outputs": [
    {
     "name": "stdout",
     "output_type": "stream",
     "text": [
      "Requirement already satisfied: numpy in c:\\users\\arpit\\anaconda3\\lib\\site-packages (1.24.3)\n"
     ]
    }
   ],
   "source": [
    "!pip install numpy"
   ]
  },
  {
   "cell_type": "code",
   "execution_count": 3,
   "id": "436575bb",
   "metadata": {},
   "outputs": [],
   "source": [
    "import pandas as pd\n",
    "from sklearn.model_selection import train_test_split\n",
    "from sklearn.ensemble import RandomForestClassifier\n",
    "from sklearn.metrics import accuracy_score, classification_report\n"
   ]
  },
  {
   "cell_type": "code",
   "execution_count": 2,
   "id": "a182ddb0",
   "metadata": {},
   "outputs": [],
   "source": [
    "# Load the dataset\n"
   ]
  },
  {
   "cell_type": "code",
   "execution_count": 4,
   "id": "deb08adc",
   "metadata": {},
   "outputs": [
    {
     "name": "stdout",
     "output_type": "stream",
     "text": [
      "     Age  Gender Polyuria Polydipsia sudden weight loss weakness Polyphagia  \\\n",
      "0     40    Male       No        Yes                 No      Yes         No   \n",
      "1     58    Male       No         No                 No      Yes         No   \n",
      "2     41    Male      Yes         No                 No      Yes        Yes   \n",
      "3     45    Male       No         No                Yes      Yes        Yes   \n",
      "4     60    Male      Yes        Yes                Yes      Yes        Yes   \n",
      "..   ...     ...      ...        ...                ...      ...        ...   \n",
      "515   39  Female      Yes        Yes                Yes       No        Yes   \n",
      "516   48  Female      Yes        Yes                Yes      Yes        Yes   \n",
      "517   58  Female      Yes        Yes                Yes      Yes        Yes   \n",
      "518   32  Female       No         No                 No      Yes         No   \n",
      "519   42    Male       No         No                 No       No         No   \n",
      "\n",
      "    Genital thrush visual blurring Itching Irritability delayed healing  \\\n",
      "0               No              No     Yes           No             Yes   \n",
      "1               No             Yes      No           No              No   \n",
      "2               No              No     Yes           No             Yes   \n",
      "3              Yes              No     Yes           No             Yes   \n",
      "4               No             Yes     Yes          Yes             Yes   \n",
      "..             ...             ...     ...          ...             ...   \n",
      "515             No              No     Yes           No             Yes   \n",
      "516             No              No     Yes          Yes             Yes   \n",
      "517             No             Yes      No           No              No   \n",
      "518             No             Yes     Yes           No             Yes   \n",
      "519             No              No      No           No              No   \n",
      "\n",
      "    partial paresis muscle stiffness Alopecia Obesity     class  \n",
      "0                No              Yes      Yes     Yes  Positive  \n",
      "1               Yes               No      Yes      No  Positive  \n",
      "2                No              Yes      Yes      No  Positive  \n",
      "3                No               No       No      No  Positive  \n",
      "4               Yes              Yes      Yes     Yes  Positive  \n",
      "..              ...              ...      ...     ...       ...  \n",
      "515             Yes               No       No      No  Positive  \n",
      "516             Yes               No       No      No  Positive  \n",
      "517             Yes              Yes       No     Yes  Positive  \n",
      "518              No               No      Yes      No  Negative  \n",
      "519              No               No       No      No  Negative  \n",
      "\n",
      "[520 rows x 17 columns]\n"
     ]
    }
   ],
   "source": [
    "import numpy as np\n",
    "import pandas as pd\n",
    "data=pd.read_csv(\"diabetes_data_upload.csv\",sep=',')\n",
    "print(data)"
   ]
  },
  {
   "cell_type": "markdown",
   "id": "342e264f",
   "metadata": {},
   "source": [
    "# Data Preprocessing "
   ]
  },
  {
   "cell_type": "code",
   "execution_count": 5,
   "id": "41c8146e",
   "metadata": {},
   "outputs": [
    {
     "name": "stdout",
     "output_type": "stream",
     "text": [
      "<class 'pandas.core.frame.DataFrame'>\n"
     ]
    }
   ],
   "source": [
    "print(type(data))"
   ]
  },
  {
   "cell_type": "code",
   "execution_count": 6,
   "id": "942e7900",
   "metadata": {},
   "outputs": [],
   "source": [
    "#response\n",
    "y=data[\"class\"]"
   ]
  },
  {
   "cell_type": "code",
   "execution_count": 7,
   "id": "c8a75c86",
   "metadata": {},
   "outputs": [
    {
     "name": "stdout",
     "output_type": "stream",
     "text": [
      "0      Positive\n",
      "1      Positive\n",
      "2      Positive\n",
      "3      Positive\n",
      "4      Positive\n",
      "         ...   \n",
      "515    Positive\n",
      "516    Positive\n",
      "517    Positive\n",
      "518    Negative\n",
      "519    Negative\n",
      "Name: class, Length: 520, dtype: object\n",
      "<class 'pandas.core.series.Series'>\n"
     ]
    }
   ],
   "source": [
    "print(y)\n",
    "print(type(y))"
   ]
  },
  {
   "cell_type": "code",
   "execution_count": 10,
   "id": "b5322b43",
   "metadata": {},
   "outputs": [
    {
     "name": "stdout",
     "output_type": "stream",
     "text": [
      "     Age  Gender Polyuria Polydipsia sudden weight loss weakness Polyphagia  \\\n",
      "0     40    Male       No        Yes                 No      Yes         No   \n",
      "1     58    Male       No         No                 No      Yes         No   \n",
      "2     41    Male      Yes         No                 No      Yes        Yes   \n",
      "3     45    Male       No         No                Yes      Yes        Yes   \n",
      "4     60    Male      Yes        Yes                Yes      Yes        Yes   \n",
      "..   ...     ...      ...        ...                ...      ...        ...   \n",
      "515   39  Female      Yes        Yes                Yes       No        Yes   \n",
      "516   48  Female      Yes        Yes                Yes      Yes        Yes   \n",
      "517   58  Female      Yes        Yes                Yes      Yes        Yes   \n",
      "518   32  Female       No         No                 No      Yes         No   \n",
      "519   42    Male       No         No                 No       No         No   \n",
      "\n",
      "    Genital thrush visual blurring Itching Irritability delayed healing  \\\n",
      "0               No              No     Yes           No             Yes   \n",
      "1               No             Yes      No           No              No   \n",
      "2               No              No     Yes           No             Yes   \n",
      "3              Yes              No     Yes           No             Yes   \n",
      "4               No             Yes     Yes          Yes             Yes   \n",
      "..             ...             ...     ...          ...             ...   \n",
      "515             No              No     Yes           No             Yes   \n",
      "516             No              No     Yes          Yes             Yes   \n",
      "517             No             Yes      No           No              No   \n",
      "518             No             Yes     Yes           No             Yes   \n",
      "519             No              No      No           No              No   \n",
      "\n",
      "    partial paresis muscle stiffness Alopecia Obesity     class  \n",
      "0                No              Yes      Yes     Yes  Positive  \n",
      "1               Yes               No      Yes      No  Positive  \n",
      "2                No              Yes      Yes      No  Positive  \n",
      "3                No               No       No      No  Positive  \n",
      "4               Yes              Yes      Yes     Yes  Positive  \n",
      "..              ...              ...      ...     ...       ...  \n",
      "515             Yes               No       No      No  Positive  \n",
      "516             Yes               No       No      No  Positive  \n",
      "517             Yes              Yes       No     Yes  Positive  \n",
      "518              No               No      Yes      No  Negative  \n",
      "519              No               No       No      No  Negative  \n",
      "\n",
      "[520 rows x 17 columns]\n"
     ]
    }
   ],
   "source": [
    "import pandas as pd\n",
    "\n",
    "# Sample DataFrame with features containing 'yes' and 'no'\n",
    "data=pd.read_csv(\"diabetes_data_upload.csv\",sep=',')\n",
    "df = pd.DataFrame(data)\n",
    "\n",
    "# Mapping 'yes' to 1 and 'no' to 0 for all features\n",
    "df.replace({'yes': 1, 'no': 0}, inplace=True)\n",
    "\n",
    "# Print the modified DataFrame\n",
    "print(df)\n"
   ]
  },
  {
   "cell_type": "code",
   "execution_count": 11,
   "id": "3ca56adb",
   "metadata": {},
   "outputs": [
    {
     "name": "stdout",
     "output_type": "stream",
     "text": [
      "     Age  Gender  Polyuria  Polydipsia  sudden weight loss  weakness  \\\n",
      "0     40       0         0           1                   0         1   \n",
      "1     58       0         0           0                   0         1   \n",
      "2     41       0         1           0                   0         1   \n",
      "3     45       0         0           0                   1         1   \n",
      "4     60       0         1           1                   1         1   \n",
      "..   ...     ...       ...         ...                 ...       ...   \n",
      "515   39       1         1           1                   1         0   \n",
      "516   48       1         1           1                   1         1   \n",
      "517   58       1         1           1                   1         1   \n",
      "518   32       1         0           0                   0         1   \n",
      "519   42       0         0           0                   0         0   \n",
      "\n",
      "     Polyphagia  Genital thrush  visual blurring  Itching  Irritability  \\\n",
      "0             0               0                0        1             0   \n",
      "1             0               0                1        0             0   \n",
      "2             1               0                0        1             0   \n",
      "3             1               1                0        1             0   \n",
      "4             1               0                1        1             1   \n",
      "..          ...             ...              ...      ...           ...   \n",
      "515           1               0                0        1             0   \n",
      "516           1               0                0        1             1   \n",
      "517           1               0                1        0             0   \n",
      "518           0               0                1        1             0   \n",
      "519           0               0                0        0             0   \n",
      "\n",
      "     delayed healing  partial paresis  muscle stiffness  Alopecia  Obesity  \\\n",
      "0                  1                0                 1         1        1   \n",
      "1                  0                1                 0         1        0   \n",
      "2                  1                0                 1         1        0   \n",
      "3                  1                0                 0         0        0   \n",
      "4                  1                1                 1         1        1   \n",
      "..               ...              ...               ...       ...      ...   \n",
      "515                1                1                 0         0        0   \n",
      "516                1                1                 0         0        0   \n",
      "517                0                1                 1         0        1   \n",
      "518                1                0                 0         1        0   \n",
      "519                0                0                 0         0        0   \n",
      "\n",
      "     class  \n",
      "0        1  \n",
      "1        1  \n",
      "2        1  \n",
      "3        1  \n",
      "4        1  \n",
      "..     ...  \n",
      "515      1  \n",
      "516      1  \n",
      "517      1  \n",
      "518      0  \n",
      "519      0  \n",
      "\n",
      "[520 rows x 17 columns]\n"
     ]
    }
   ],
   "source": [
    "df['Polyuria'] = df['Polyuria'].replace({'Yes': 1, 'No': 0})\n",
    "df['Polydipsia'] = df['Polydipsia'].replace({'Yes': 1, 'No': 0})\n",
    "df['sudden weight loss'] = df['sudden weight loss'].replace({'Yes': 1, 'No': 0})\n",
    "df['weakness'] = df['weakness'].replace({'Yes': 1, 'No': 0})\n",
    "\n",
    "df['Polyphagia'] = df['Polyphagia'].replace({'Yes': 1, 'No': 0})\n",
    "df['Genital thrush'] = df['Genital thrush'].replace({'Yes': 1, 'No': 0})\n",
    "df['visual blurring'] = df['visual blurring'].replace({'Yes': 1, 'No': 0})\n",
    "df['Itching'] = df['Itching'].replace({'Yes': 1, 'No': 0})\n",
    "df['Irritability'] = df['Irritability'].replace({'Yes': 1, 'No': 0})\n",
    "df['delayed healing'] = df['delayed healing'].replace({'Yes': 1, 'No': 0})\n",
    "df['partial paresis'] = df['partial paresis'].replace({'Yes': 1, 'No': 0})\n",
    "df['muscle stiffness'] = df['muscle stiffness'].replace({'Yes': 1, 'No': 0})\n",
    "df['Alopecia'] = df['Alopecia'].replace({'Yes': 1, 'No': 0})\n",
    "df['Obesity'] = df['Obesity'].replace({'Yes': 1, 'No': 0})\n",
    "df['Gender'] = df['Gender'].replace({'Male': 0, 'Female': 1})\n",
    "df['class'] = df['class'].replace({'Positive': 1, 'Negative': 0})\n",
    "\n",
    "# Display the modified dataframe\n",
    "print(df)\n",
    "newdata=df"
   ]
  },
  {
   "cell_type": "code",
   "execution_count": 12,
   "id": "45419245",
   "metadata": {},
   "outputs": [
    {
     "name": "stdout",
     "output_type": "stream",
     "text": [
      "     Age  Gender  Polyuria  Polydipsia  sudden weight loss  weakness  \\\n",
      "0     40       0         0           1                   0         1   \n",
      "1     58       0         0           0                   0         1   \n",
      "2     41       0         1           0                   0         1   \n",
      "3     45       0         0           0                   1         1   \n",
      "4     60       0         1           1                   1         1   \n",
      "..   ...     ...       ...         ...                 ...       ...   \n",
      "515   39       1         1           1                   1         0   \n",
      "516   48       1         1           1                   1         1   \n",
      "517   58       1         1           1                   1         1   \n",
      "518   32       1         0           0                   0         1   \n",
      "519   42       0         0           0                   0         0   \n",
      "\n",
      "     Polyphagia  Genital thrush  visual blurring  Itching  Irritability  \\\n",
      "0             0               0                0        1             0   \n",
      "1             0               0                1        0             0   \n",
      "2             1               0                0        1             0   \n",
      "3             1               1                0        1             0   \n",
      "4             1               0                1        1             1   \n",
      "..          ...             ...              ...      ...           ...   \n",
      "515           1               0                0        1             0   \n",
      "516           1               0                0        1             1   \n",
      "517           1               0                1        0             0   \n",
      "518           0               0                1        1             0   \n",
      "519           0               0                0        0             0   \n",
      "\n",
      "     delayed healing  partial paresis  muscle stiffness  Alopecia  Obesity  \n",
      "0                  1                0                 1         1        1  \n",
      "1                  0                1                 0         1        0  \n",
      "2                  1                0                 1         1        0  \n",
      "3                  1                0                 0         0        0  \n",
      "4                  1                1                 1         1        1  \n",
      "..               ...              ...               ...       ...      ...  \n",
      "515                1                1                 0         0        0  \n",
      "516                1                1                 0         0        0  \n",
      "517                0                1                 1         0        1  \n",
      "518                1                0                 0         1        0  \n",
      "519                0                0                 0         0        0  \n",
      "\n",
      "[520 rows x 16 columns]\n",
      "0      1\n",
      "1      1\n",
      "2      1\n",
      "3      1\n",
      "4      1\n",
      "      ..\n",
      "515    1\n",
      "516    1\n",
      "517    1\n",
      "518    0\n",
      "519    0\n",
      "Name: class, Length: 520, dtype: int64\n"
     ]
    }
   ],
   "source": [
    "from sklearn.model_selection import train_test_split\n",
    "from sklearn.linear_model import LogisticRegression\n",
    "from sklearn.metrics import accuracy_score, classification_report, confusion_matrix\n",
    "\n",
    "# Assuming your modified dataframe is named 'newdata'\n",
    "\n",
    "X = newdata.drop('class', axis=1)\n",
    "y = newdata['class']\n",
    "print(X)\n",
    "print(y)\n",
    "\n",
    "\n"
   ]
  },
  {
   "cell_type": "markdown",
   "id": "62ab87f8",
   "metadata": {},
   "source": [
    "# Training and Testing Data"
   ]
  },
  {
   "cell_type": "code",
   "execution_count": 13,
   "id": "69a8b6c3",
   "metadata": {},
   "outputs": [
    {
     "name": "stdout",
     "output_type": "stream",
     "text": [
      "     Age  Gender  Polyuria  Polydipsia  sudden weight loss  weakness  \\\n",
      "434   53       0         1           1                   1         1   \n",
      "436   41       0         1           1                   1         1   \n",
      "208   54       0         0           0                   1         1   \n",
      "332   50       1         0           0                   0         1   \n",
      "220   38       0         0           0                   0         0   \n",
      "..   ...     ...       ...         ...                 ...       ...   \n",
      "71    35       1         0           1                   1         1   \n",
      "106   58       0         0           1                   1         1   \n",
      "270   40       1         1           1                   1         1   \n",
      "435   57       0         1           1                   1         1   \n",
      "102   90       1         0           1                   1         0   \n",
      "\n",
      "     Polyphagia  Genital thrush  visual blurring  Itching  Irritability  \\\n",
      "434           1               0                1        0             1   \n",
      "436           1               1                1        1             1   \n",
      "208           0               1                0        0             0   \n",
      "332           0               0                1        1             0   \n",
      "220           0               0                0        0             0   \n",
      "..          ...             ...              ...      ...           ...   \n",
      "71            0               0                0        1             0   \n",
      "106           1               0                1        1             0   \n",
      "270           0               0                1        0             0   \n",
      "435           1               0                1        0             0   \n",
      "102           0               1                1        1             0   \n",
      "\n",
      "     delayed healing  partial paresis  muscle stiffness  Alopecia  Obesity  \n",
      "434                0                1                 0         1        0  \n",
      "436                0                0                 0         0        1  \n",
      "208                1                0                 0         1        0  \n",
      "332                1                0                 0         1        0  \n",
      "220                0                0                 0         0        0  \n",
      "..               ...              ...               ...       ...      ...  \n",
      "71                 1                1                 1         0        0  \n",
      "106                0                1                 0         1        1  \n",
      "270                1                1                 1         0        0  \n",
      "435                0                1                 0         0        0  \n",
      "102                0                0                 1         1        0  \n",
      "\n",
      "[416 rows x 16 columns]\n"
     ]
    }
   ],
   "source": [
    "# Split the data into training and testing sets\n",
    "X_train, X_test, y_train, y_test = train_test_split(X, y, test_size=0.2, random_state=42)\n",
    "\n",
    "print(X_train)"
   ]
  },
  {
   "cell_type": "markdown",
   "id": "968eca1f",
   "metadata": {},
   "source": [
    "# MODEL AND ACCURACY"
   ]
  },
  {
   "cell_type": "markdown",
   "id": "4ef2748d",
   "metadata": {},
   "source": [
    "## Logistic Regression"
   ]
  },
  {
   "cell_type": "code",
   "execution_count": 14,
   "id": "949060e9",
   "metadata": {},
   "outputs": [
    {
     "name": "stdout",
     "output_type": "stream",
     "text": [
      "Accuracy: 0.92\n",
      "\n",
      "Confusion Matrix:\n",
      "[[28  5]\n",
      " [ 3 68]]\n",
      "\n",
      "Classification Report:\n",
      "              precision    recall  f1-score   support\n",
      "\n",
      "           0       0.90      0.85      0.88        33\n",
      "           1       0.93      0.96      0.94        71\n",
      "\n",
      "    accuracy                           0.92       104\n",
      "   macro avg       0.92      0.90      0.91       104\n",
      "weighted avg       0.92      0.92      0.92       104\n",
      "\n"
     ]
    },
    {
     "name": "stderr",
     "output_type": "stream",
     "text": [
      "C:\\Users\\arpit\\anaconda3\\Lib\\site-packages\\sklearn\\linear_model\\_logistic.py:460: ConvergenceWarning: lbfgs failed to converge (status=1):\n",
      "STOP: TOTAL NO. of ITERATIONS REACHED LIMIT.\n",
      "\n",
      "Increase the number of iterations (max_iter) or scale the data as shown in:\n",
      "    https://scikit-learn.org/stable/modules/preprocessing.html\n",
      "Please also refer to the documentation for alternative solver options:\n",
      "    https://scikit-learn.org/stable/modules/linear_model.html#logistic-regression\n",
      "  n_iter_i = _check_optimize_result(\n"
     ]
    }
   ],
   "source": [
    "# Instantiate the logistic regression model\n",
    "model = LogisticRegression()\n",
    "\n",
    "# Train the model\n",
    "model.fit(X_train, y_train)\n",
    "\n",
    "# Make predictions on the test set\n",
    "y_pred = model.predict(X_test)\n",
    "\n",
    "\n",
    "accuracy = accuracy_score(y_test, y_pred)\n",
    "conf_matrix = confusion_matrix(y_test, y_pred)\n",
    "classification_rep = classification_report(y_test, y_pred)\n",
    "\n",
    "# results\n",
    "print(f'Accuracy: {accuracy:.2f}')\n",
    "print('\\nConfusion Matrix:')\n",
    "print(conf_matrix)\n",
    "print('\\nClassification Report:')\n",
    "print(classification_rep)\n"
   ]
  },
  {
   "cell_type": "markdown",
   "id": "5974433d",
   "metadata": {},
   "source": [
    "## Decision Tree"
   ]
  },
  {
   "cell_type": "code",
   "execution_count": 13,
   "id": "4b33deae",
   "metadata": {},
   "outputs": [
    {
     "name": "stdout",
     "output_type": "stream",
     "text": [
      "Decision Tree Accuracy: 0.96\n",
      "\n",
      "Confusion Matrix:\n",
      "[[33  0]\n",
      " [ 4 67]]\n",
      "\n",
      "Classification Report:\n",
      "              precision    recall  f1-score   support\n",
      "\n",
      "           0       0.89      1.00      0.94        33\n",
      "           1       1.00      0.94      0.97        71\n",
      "\n",
      "    accuracy                           0.96       104\n",
      "   macro avg       0.95      0.97      0.96       104\n",
      "weighted avg       0.97      0.96      0.96       104\n",
      "\n"
     ]
    }
   ],
   "source": [
    "from sklearn.tree import DecisionTreeClassifier\n",
    "from sklearn.metrics import accuracy_score, confusion_matrix, classification_report\n",
    "from sklearn.model_selection import train_test_split\n",
    "\n",
    "# Assuming X and y are your features and target variable\n",
    "# Splitting the data into training and test sets (e.g., 20% test split)\n",
    "X_train, X_test, y_train, y_test = train_test_split(X, y, test_size=0.2, random_state=42)\n",
    "\n",
    "# Creating and training the Decision Tree model\n",
    "tree_model = DecisionTreeClassifier(random_state=42)\n",
    "tree_model.fit(X_train, y_train)\n",
    "\n",
    "# Making predictions on the test set\n",
    "tree_predictions = tree_model.predict(X_test)\n",
    "\n",
    "# Evaluating the model\n",
    "accuracy = accuracy_score(y_test, tree_predictions)\n",
    "conf_matrix = confusion_matrix(y_test, tree_predictions)\n",
    "classification_rep = classification_report(y_test, tree_predictions)\n",
    "\n",
    "print(f'Decision Tree Accuracy: {accuracy:.2f}')\n",
    "print('\\nConfusion Matrix:')\n",
    "print(conf_matrix)\n",
    "print('\\nClassification Report:')\n",
    "print(classification_rep)\n"
   ]
  },
  {
   "cell_type": "code",
   "execution_count": null,
   "id": "49ab5e0c",
   "metadata": {},
   "outputs": [],
   "source": []
  },
  {
   "cell_type": "markdown",
   "id": "3989ef59",
   "metadata": {},
   "source": [
    "## KNN Classifier"
   ]
  },
  {
   "cell_type": "code",
   "execution_count": 14,
   "id": "4e622055",
   "metadata": {},
   "outputs": [
    {
     "name": "stdout",
     "output_type": "stream",
     "text": [
      "KNN Accuracy: 0.89\n",
      "\n",
      "Confusion Matrix:\n",
      "[[30  3]\n",
      " [ 8 63]]\n",
      "\n",
      "Classification Report:\n",
      "              precision    recall  f1-score   support\n",
      "\n",
      "           0       0.79      0.91      0.85        33\n",
      "           1       0.95      0.89      0.92        71\n",
      "\n",
      "    accuracy                           0.89       104\n",
      "   macro avg       0.87      0.90      0.88       104\n",
      "weighted avg       0.90      0.89      0.90       104\n",
      "\n"
     ]
    }
   ],
   "source": [
    "from sklearn.model_selection import train_test_split\n",
    "from sklearn.preprocessing import StandardScaler\n",
    "from sklearn.neighbors import KNeighborsClassifier\n",
    "from sklearn.metrics import accuracy_score, confusion_matrix, classification_report\n",
    "\n",
    "# Assuming df is your DataFrame containing the dataset\n",
    "# Separate features (X) and target variable (y)\n",
    "X = df.drop('class', axis=1)\n",
    "y = df['class']\n",
    "\n",
    "# Convert categorical variables to numerical (if needed)\n",
    "# For simplicity, let's assume 'Gender' is the only categorical variable\n",
    "X = pd.get_dummies(X, columns=['Gender'], drop_first=True)\n",
    "\n",
    "# Split the data into training and testing sets (e.g., 80% training, 20% testing)\n",
    "X_train, X_test, y_train, y_test = train_test_split(X, y, test_size=0.2, random_state=42)\n",
    "\n",
    "# Standardize the features (important for KNN)\n",
    "scaler = StandardScaler()\n",
    "X_train_scaled = scaler.fit_transform(X_train)\n",
    "X_test_scaled = scaler.transform(X_test)\n",
    "\n",
    "# Create and train the KNN model\n",
    "knn_model = KNeighborsClassifier(n_neighbors=5)\n",
    "knn_model.fit(X_train_scaled, y_train)\n",
    "\n",
    "# Make predictions on the test set\n",
    "knn_predictions = knn_model.predict(X_test_scaled)\n",
    "\n",
    "# Evaluate the model\n",
    "accuracy = accuracy_score(y_test, knn_predictions)\n",
    "conf_matrix = confusion_matrix(y_test, knn_predictions)\n",
    "classification_rep = classification_report(y_test, knn_predictions)\n",
    "\n",
    "print(f'KNN Accuracy: {accuracy:.2f}')\n",
    "print('\\nConfusion Matrix:')\n",
    "print(conf_matrix)\n",
    "print('\\nClassification Report:')\n",
    "print(classification_rep)\n"
   ]
  },
  {
   "cell_type": "code",
   "execution_count": null,
   "id": "3bb9faa2",
   "metadata": {},
   "outputs": [],
   "source": []
  },
  {
   "cell_type": "markdown",
   "id": "173a3abf",
   "metadata": {},
   "source": [
    "## Support Vector Machine"
   ]
  },
  {
   "cell_type": "code",
   "execution_count": 21,
   "id": "1e95903c",
   "metadata": {},
   "outputs": [
    {
     "name": "stdout",
     "output_type": "stream",
     "text": [
      "SVM Accuracy: 0.90\n",
      "\n",
      "Confusion Matrix:\n",
      "[[28  5]\n",
      " [ 5 66]]\n",
      "\n",
      "Classification Report:\n",
      "              precision    recall  f1-score   support\n",
      "\n",
      "           0       0.85      0.85      0.85        33\n",
      "           1       0.93      0.93      0.93        71\n",
      "\n",
      "    accuracy                           0.90       104\n",
      "   macro avg       0.89      0.89      0.89       104\n",
      "weighted avg       0.90      0.90      0.90       104\n",
      "\n"
     ]
    }
   ],
   "source": [
    "from sklearn.model_selection import train_test_split\n",
    "from sklearn.preprocessing import StandardScaler\n",
    "from sklearn.svm import SVC\n",
    "from sklearn.metrics import accuracy_score, confusion_matrix, classification_report\n",
    "\n",
    "# Assuming df is your DataFrame containing the dataset\n",
    "# Separate features (X) and target variable (y)\n",
    "X = df.drop('class', axis=1)\n",
    "y = df['class']\n",
    "\n",
    "# Convert categorical variables to numerical (if needed)\n",
    "# For simplicity, let's assume 'Gender' is the only categorical variable\n",
    "X = pd.get_dummies(X, columns=['Gender'], drop_first=True)\n",
    "\n",
    "# Split the data into training and testing sets (e.g., 80% training, 20% testing)\n",
    "X_train, X_test, y_train, y_test = train_test_split(X, y, test_size=0.2, random_state=42)\n",
    "\n",
    "# Standardize the features (important for SVM)\n",
    "scaler = StandardScaler()\n",
    "X_train_scaled = scaler.fit_transform(X_train)\n",
    "X_test_scaled = scaler.transform(X_test)\n",
    "\n",
    "# Create and train the SVM model\n",
    "svm_model = SVC(kernel='linear', random_state=42)\n",
    "svm_model.fit(X_train_scaled, y_train)\n",
    "\n",
    "# Make predictions on the test set\n",
    "svm_predictions = svm_model.predict(X_test_scaled)\n",
    "\n",
    "# Evaluate the model\n",
    "accuracy = accuracy_score(y_test, svm_predictions)\n",
    "conf_matrix = confusion_matrix(y_test, svm_predictions)\n",
    "classification_rep = classification_report(y_test, svm_predictions)\n",
    "\n",
    "print(f'SVM Accuracy: {accuracy:.2f}')\n",
    "print('\\nConfusion Matrix:')\n",
    "print(conf_matrix)\n",
    "print('\\nClassification Report:')\n",
    "print(classification_rep)\n"
   ]
  },
  {
   "cell_type": "code",
   "execution_count": null,
   "id": "f90753c6",
   "metadata": {},
   "outputs": [],
   "source": []
  },
  {
   "cell_type": "markdown",
   "id": "865f8b5d",
   "metadata": {},
   "source": [
    "## Gausian Naive Bayes"
   ]
  },
  {
   "cell_type": "code",
   "execution_count": 15,
   "id": "96b278e4",
   "metadata": {},
   "outputs": [
    {
     "name": "stdout",
     "output_type": "stream",
     "text": [
      "Naive Bayes Accuracy: 0.91\n",
      "\n",
      "Confusion Matrix:\n",
      "[[28  5]\n",
      " [ 4 67]]\n",
      "\n",
      "Classification Report:\n",
      "              precision    recall  f1-score   support\n",
      "\n",
      "           0       0.88      0.85      0.86        33\n",
      "           1       0.93      0.94      0.94        71\n",
      "\n",
      "    accuracy                           0.91       104\n",
      "   macro avg       0.90      0.90      0.90       104\n",
      "weighted avg       0.91      0.91      0.91       104\n",
      "\n"
     ]
    }
   ],
   "source": [
    "from sklearn.model_selection import train_test_split\n",
    "from sklearn.preprocessing import StandardScaler\n",
    "from sklearn.naive_bayes import GaussianNB\n",
    "from sklearn.metrics import accuracy_score, confusion_matrix, classification_report\n",
    "\n",
    "# Assuming df is your DataFrame containing the dataset\n",
    "# Separate features (X) and target variable (y)\n",
    "X = df.drop('class', axis=1)\n",
    "y = df['class']\n",
    "\n",
    "# Convert categorical variables to numerical (if needed)\n",
    "# For simplicity, let's assume 'Gender' is the only categorical variable\n",
    "X = pd.get_dummies(X, columns=['Gender'], drop_first=True)\n",
    "\n",
    "# Split the data into training and testing sets (e.g., 80% training, 20% testing)\n",
    "X_train, X_test, y_train, y_test = train_test_split(X, y, test_size=0.2, random_state=42)\n",
    "\n",
    "# Standardize the features (important for Gaussian Naive Bayes)\n",
    "scaler = StandardScaler()\n",
    "X_train_scaled = scaler.fit_transform(X_train)\n",
    "X_test_scaled = scaler.transform(X_test)\n",
    "\n",
    "# Create and train the Gaussian Naive Bayes model\n",
    "nb_model = GaussianNB()\n",
    "nb_model.fit(X_train_scaled, y_train)\n",
    "\n",
    "# Make predictions on the test set\n",
    "nb_predictions = nb_model.predict(X_test_scaled)\n",
    "\n",
    "# Evaluate the model\n",
    "accuracy = accuracy_score(y_test, nb_predictions)\n",
    "conf_matrix = confusion_matrix(y_test, nb_predictions)\n",
    "classification_rep = classification_report(y_test, nb_predictions)\n",
    "\n",
    "print(f'Naive Bayes Accuracy: {accuracy:.2f}')\n",
    "print('\\nConfusion Matrix:')\n",
    "print(conf_matrix)\n",
    "print('\\nClassification Report:')\n",
    "print(classification_rep)\n"
   ]
  },
  {
   "cell_type": "markdown",
   "id": "175684b9",
   "metadata": {},
   "source": [
    "## Random Forest"
   ]
  },
  {
   "cell_type": "code",
   "execution_count": 16,
   "id": "94d37d74",
   "metadata": {},
   "outputs": [
    {
     "name": "stdout",
     "output_type": "stream",
     "text": [
      "Random Forest Accuracy: 0.99\n",
      "\n",
      "Confusion Matrix:\n",
      "[[33  0]\n",
      " [ 1 70]]\n",
      "\n",
      "Classification Report:\n",
      "              precision    recall  f1-score   support\n",
      "\n",
      "           0       0.97      1.00      0.99        33\n",
      "           1       1.00      0.99      0.99        71\n",
      "\n",
      "    accuracy                           0.99       104\n",
      "   macro avg       0.99      0.99      0.99       104\n",
      "weighted avg       0.99      0.99      0.99       104\n",
      "\n"
     ]
    }
   ],
   "source": [
    "from sklearn.model_selection import train_test_split\n",
    "from sklearn.ensemble import RandomForestClassifier\n",
    "from sklearn.metrics import accuracy_score, confusion_matrix, classification_report\n",
    "\n",
    "# Assuming df is your DataFrame containing the dataset\n",
    "# Separate features (X) and target variable (y)\n",
    "X = df.drop('class', axis=1)\n",
    "y = df['class']\n",
    "\n",
    "# Convert categorical variables to numerical (if needed)\n",
    "# For simplicity, let's assume 'Gender' is the only categorical variable\n",
    "X = pd.get_dummies(X, columns=['Gender'], drop_first=True)\n",
    "\n",
    "# Split the data into training and testing sets (e.g., 80% training, 20% testing)\n",
    "X_train, X_test, y_train, y_test = train_test_split(X, y, test_size=0.2, random_state=42)\n",
    "\n",
    "# Create and train the Random Forest model\n",
    "rf_model = RandomForestClassifier(n_estimators=100, random_state=42)\n",
    "rf_model.fit(X_train, y_train)\n",
    "\n",
    "# Make predictions on the test set\n",
    "rf_predictions = rf_model.predict(X_test)\n",
    "\n",
    "# Evaluate the model\n",
    "accuracy = accuracy_score(y_test, rf_predictions)\n",
    "conf_matrix = confusion_matrix(y_test, rf_predictions)\n",
    "classification_rep = classification_report(y_test, rf_predictions)\n",
    "\n",
    "print(f'Random Forest Accuracy: {accuracy:.2f}')\n",
    "print('\\nConfusion Matrix:')\n",
    "print(conf_matrix)\n",
    "print('\\nClassification Report:')\n",
    "print(classification_rep)\n"
   ]
  },
  {
   "cell_type": "code",
   "execution_count": null,
   "id": "4ddf1393",
   "metadata": {},
   "outputs": [],
   "source": []
  },
  {
   "cell_type": "code",
   "execution_count": 2,
   "id": "2063f303",
   "metadata": {},
   "outputs": [
    {
     "name": "stdout",
     "output_type": "stream",
     "text": [
      "        Model  Accuracy\n",
      "0         SVM      0.90\n",
      "1  GuassianNB      0.91\n",
      "2         KNN      0.89\n",
      "3   LogisticR      0.92\n"
     ]
    }
   ],
   "source": [
    "accdata = {\n",
    "    'Model': ['SVM', 'GuassianNB', 'KNN','LogisticR'],\n",
    "    'Accuracy': [0.90, 0.91, 0.89,0.92],\n",
    "   \n",
    "}\n",
    "\n",
    "# Convert to DataFrame (using pandas)\n",
    "import pandas as pd\n",
    "da = pd.DataFrame(accdata)\n",
    "\n",
    "# Display DataFrame\n",
    "print(da)"
   ]
  },
  {
   "cell_type": "code",
   "execution_count": null,
   "id": "701c1a7b",
   "metadata": {},
   "outputs": [],
   "source": [
    "''' 'Precision': ['New York', 'San Francisco', 'London', 'Tokyo']\n",
    "    'Recall': [25, 30, 22, 35],\n",
    "    'f1 score': [25, 30, 22, 35],\n",
    "    '''"
   ]
  },
  {
   "cell_type": "code",
   "execution_count": 3,
   "id": "bbc76dca",
   "metadata": {},
   "outputs": [
    {
     "data": {
      "image/png": "[encoded data removed]",
      "text/plain": [
       "<Figure size 500x600 with 1 Axes>"
      ]
     },
     "metadata": {},
     "output_type": "display_data"
    }
   ],
   "source": [
    "import matplotlib.pyplot as plt\n",
    "\n",
    "# Assuming you have a DataFrame named 'results_df' with columns 'Model' and 'Accuracy'\n",
    "results_df = pd.DataFrame({\n",
    "    'Model': ['SVM', 'GuassianNB', 'KNN','LogisticR','DecisionTree'],\n",
    "    'Accuracy': [0.90, 0.91, 0.89,0.92,0.96]\n",
    "})\n",
    "\n",
    "# Plotting the bar chart\n",
    "plt.figure(figsize=(5, 6))\n",
    "plt.bar(results_df['Model'], results_df['Accuracy'], color=['blue', 'green', 'red','yellow','violet'])\n",
    "plt.title('Model Accuracy Comparison')\n",
    "plt.xlabel('Model')\n",
    "plt.ylabel('Accuracy')\n",
    "plt.ylim(0, 1)  # Setting y-axis limit to match accuracy scale (0 to 1)\n",
    "plt.show()\n"
   ]
  },
  {
   "cell_type": "code",
   "execution_count": null,
   "id": "61ae880f",
   "metadata": {},
   "outputs": [],
   "source": []
  }
 ],
 "metadata": {
  "kernelspec": {
   "display_name": "Python 3 (ipykernel)",
   "language": "python",
   "name": "python3"
  },
  "language_info": {
   "codemirror_mode": {
    "name": "ipython",
    "version": 3
   },
   "file_extension": ".py",
   "mimetype": "text/x-python",
   "name": "python",
   "nbconvert_exporter": "python",
   "pygments_lexer": "ipython3",
   "version": "3.11.4"
  }
 },
 "nbformat": 4,
 "nbformat_minor": 5
}
